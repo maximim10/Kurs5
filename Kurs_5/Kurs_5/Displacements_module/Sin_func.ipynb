{
 "cells": [
  {
   "cell_type": "code",
   "execution_count": 3,
   "id": "ece38b5f",
   "metadata": {},
   "outputs": [],
   "source": [
    "def get_v_w(C_and_N_functions, P_functions, C_type, dict_with_constants):\n",
    "    a_1111 = dict_with_constants['a_1111']\n",
    "    a_11111 = dict_with_constants['a_11111']\n",
    "    d_1111 = dict_with_constants['d_1111']\n",
    "    d_11111 = dict_with_constants['d_11111']\n",
    "    d_111111 = dict_with_constants['d_111111']\n",
    "    b_111111 = dict_with_constants['b_111111']\n",
    "    c_1111 = dict_with_constants['c_1111']\n",
    "    h = dict_with_constants['h']\n",
    "    x = sympy.Symbol('x')\n",
    "    v3 = sympy.Function('v3')\n",
    "    v4 = sympy.Function('v4')\n",
    "    w0 = -math.pi**-4*sympy.sin(math.pi*x)\n",
    "    w2 = sympy.Function('w2')\n",
    "    b_c_v3 = {v3(0): 0, v3(1): 0}\n",
    "    b_c_v4 = {v4(0): 0, v4(1): 0}\n",
    "    b_c_w2 = {w2(0): 0, w2(1): 0, w2(x).diff(x,2).subs(x, 0): 0, w2(x).diff(x,2).subs(x, 1): 0}\n",
    "    v3 = sympy.dsolve(a_1111*v3(x).diff(x,2)-b_111111*w0.diff(x,5), v3(x), ics=b_c_v3, hint='nth_algebraic').rhs\n",
    "    print(f'{v3 = }')\n",
    "    v4 = sympy.dsolve(a_1111*v4(x).diff(x,2)+a_11111*v3.diff(x,3)-b_111111*w0.diff(x,6), v4(x), ics=b_c_v4, hint='nth_algebraic').rhs\n",
    "    print(f'{v4 = }')\n",
    "    w2 = sympy.dsolve(d_1111*w2(x).diff(x,4)-c_1111*v3.diff(x,3)+d_111111*w0.diff(x,6), w2(x), ics=b_c_w2, hint='nth_algebraic').rhs\n",
    "    print(f'{w2 = }')\n",
    "    v = h**3*v3+h**4*v4\n",
    "    w = w0+h**2*w2\n",
    "    Plot_function([w0], 'w0', mode=[0,1])\n",
    "#     Plot_function([w0.diff(x)], 'w0.diff(x)', mode=[0,1])\n",
    "#     Plot_function([w0.diff(x,3)], 'w0.diff(x,3)', mode=[0,1])\n",
    "    Plot_function([w2], 'w2', mode=[0,1])\n",
    "    Plot_function([v3], 'v3', mode=[0,1])\n",
    "    Plot_function([v4], 'v4', mode=[0,1])\n",
    "\n",
    "    return (v, w)"
   ]
  },
  {
   "cell_type": "code",
   "execution_count": null,
   "id": "f342d7d0",
   "metadata": {},
   "outputs": [],
   "source": []
  }
 ],
 "metadata": {
  "kernelspec": {
   "display_name": "Python 3 (ipykernel)",
   "language": "python",
   "name": "python3"
  },
  "language_info": {
   "codemirror_mode": {
    "name": "ipython",
    "version": 3
   },
   "file_extension": ".py",
   "mimetype": "text/x-python",
   "name": "python",
   "nbconvert_exporter": "python",
   "pygments_lexer": "ipython3",
   "version": "3.11.5"
  }
 },
 "nbformat": 4,
 "nbformat_minor": 5
}
