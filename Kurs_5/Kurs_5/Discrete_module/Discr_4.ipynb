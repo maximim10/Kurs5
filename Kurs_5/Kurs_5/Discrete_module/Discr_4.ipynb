{
 "cells": [
  {
   "cell_type": "code",
   "execution_count": 2,
   "id": "46c4076f",
   "metadata": {},
   "outputs": [
    {
     "data": {
      "text/html": [
       "<style>.container { width:100% !important; }</style>"
      ],
      "text/plain": [
       "<IPython.core.display.HTML object>"
      ]
     },
     "metadata": {},
     "output_type": "display_data"
    }
   ],
   "source": [
    "from IPython.display import display, HTML\n",
    "display(HTML(\"<style>.container { width:100% !important; }</style>\"))\n"
   ]
  },
  {
   "cell_type": "code",
   "execution_count": 3,
   "id": "8ba31b6f",
   "metadata": {},
   "outputs": [
    {
     "ename": "IndentationError",
     "evalue": "expected an indented block (1454913930.py, line 44)",
     "output_type": "error",
     "traceback": [
      "\u001b[1;36m  Cell \u001b[1;32mIn[3], line 44\u001b[1;36m\u001b[0m\n\u001b[1;33m    c1 = -Integrate_discrete(zero_diff)\u001b[0m\n\u001b[1;37m    ^\u001b[0m\n\u001b[1;31mIndentationError\u001b[0m\u001b[1;31m:\u001b[0m expected an indented block\n"
     ]
    }
   ],
   "source": [
    "def get_4_approx_discrete(C_and_N_functions, P_functions, C_type, N = 101, Plot_flag = 1):\n",
    "    C_ijkl = C_and_N_functions[0]\n",
    "    N_b_kpq0 = C_and_N_functions[1][0]\n",
    "    N_e_kpq0 = C_and_N_functions[1][1]\n",
    "    N_b_kpq0q1 = C_and_N_functions[2][0]\n",
    "    N_e_kpq0q1 = C_and_N_functions[2][1]\n",
    "    N_b_kpq0q1q2 = C_and_N_functions[3][0]\n",
    "    N_e_kpq0q1q2 = C_and_N_functions[3][1]\n",
    "    P_ijpq0 = P_functions[1][0]\n",
    "    Q_ijpq0 = P_functions[1][1]\n",
    "    P_ijpq0q1 = P_functions[2][0]\n",
    "    Q_ijpq0q1 = P_functions[2][1]\n",
    "    P_ijpq0q1q2 = P_functions[3][0]\n",
    "    Q_ijpq0q1q2 = P_functions[3][1]\n",
    "    N_b_kpq0q1q2q3 = [[[[[[None, None, None] for i5 in range(3)] for i4 in range(3)] for i3 in range(3)] for i2 in range(3)] for i1 in range(3)]\n",
    "    N_e_kpq0q1q2q3 = [[[[[[None, None, None] for i5 in range(3)] for i4 in range(3)] for i3 in range(3)] for i2 in range(3)] for i1 in range(3)]\n",
    "    N_b_kpq0q1q2q3_diff = [[[[[[None, None, None] for i5 in range(3)] for i4 in range(3)] for i3 in range(3)] for i2 in range(3)] for i1 in range(3)]\n",
    "    N_e_kpq0q1q2q3_diff = [[[[[[None, None, None] for i5 in range(3)] for i4 in range(3)] for i3 in range(3)] for i2 in range(3)] for i1 in range(3)]\n",
    "    Q_ijpq0q1q2q3 = [[[[[[[None, None, None] for i6 in range(3)] for i5 in range(3)] for i4 in range(3)] for i3 in range(3)] for i2 in range(3)] for i1 in range(3)]\n",
    "    P_ijpq0q1q2q3 = [[[[[[[None, None, None] for i6 in range(3)] for i5 in range(3)] for i4 in range(3)] for i3 in range(3)] for i2 in range(3)] for i1 in range(3)]\n",
    "    for i in range(3):\n",
    "        for p in range(2):\n",
    "            for q0 in range(2):\n",
    "                for q1 in range(2):\n",
    "                    for q2 in range(2):\n",
    "                        for q3 in range(2):\n",
    "                            b = Integrate_discrete(Q_ijpq0q1q2[i][q3][p][q0][q1][q2])\n",
    "                            second_diff = []\n",
    "                            for t in range(N):\n",
    "                                Ksi = t/(N-1)-1/2\n",
    "\n",
    "                                second_diff_func  = -b +\\\n",
    "                                                  + C_ijkl[i][q3][0][q2]*N_b_kpq0q1[0][p][q0][q1][t] +\\\n",
    "                                                  + C_ijkl[i][q3][1][q2]*N_b_kpq0q1[1][p][q0][q1][t] +\\\n",
    "                                                  + C_ijkl[i][q3][2][q2]*N_b_kpq0q1[2][p][q0][q1][t] +\\\n",
    "                                                  + (C_ijkl[i][q3][0][2] + C_ijkl[i][2][0][q3])*Diff_discr(N_b_kpq0q1q2[0][p][q0][q1][q2])[t] +\\\n",
    "                                                  + (C_ijkl[i][q3][1][2] + C_ijkl[i][2][1][q3])*Diff_discr(N_b_kpq0q1q2[1][p][q0][q1][q2])[t] +\\\n",
    "                                                  + (C_ijkl[i][q3][2][2] + C_ijkl[i][2][2][q3])*Diff_discr(N_b_kpq0q1q2[2][p][q0][q1][q2])[t]\n",
    "                                second_diff_func /= -C_ijkl[i][2][i][2]\n",
    "                                second_diff.append(second_diff_func.subs(x, Ksi))\n",
    "                            first_diff = Solve_d_eq_1st_order_center(second_diff)\n",
    "                            zero_diff = Solve_d_eq_1st_order_center(first_diff)\n",
    "                            c1 = -Integrate_discrete(zero_diff)\n",
    "                            c2 = C_ijkl[i][2][0][q3]*N_b_kpq0q1q2[0][p][q0][q1][q2][0] +\\\n",
    "                               + C_ijkl[i][2][1][q3]*N_b_kpq0q1q2[1][p][q0][q1][q2][0] +\\\n",
    "                               + C_ijkl[i][2][2][q3]*N_b_kpq0q1q2[2][p][q0][q1][q2][0]\n",
    "                            c2 /= -C_ijkl[i][2][i][2]\n",
    "                            c2 -= first_diff[0]\n",
    "                            c2 = c2.subs(x, -1/2)\n",
    "                            final_solution = []\n",
    "                            for t in range(N):\n",
    "                                Ksi = t/(N-1)-1/2\n",
    "                                final_solution.append(zero_diff[t]+c2*Ksi+c1)\n",
    "                                first_diff[t] += c2\n",
    "                            N_b_kpq0q1q2q3_diff[i][p][q0][q1][q2][q3] = first_diff\n",
    "                            N_b_kpq0q1q2q3[i][p][q0][q1][q2][q3] = final_solution\n",
    "                            if C_type != \"Symbolic\" and Plot_flag:\n",
    "                                Plot_function([N_b_kpq0q1q2q3[i][p][q0][q1][q2][q3]], f\"N_b_{i+1}{p+1}{q0+1}{q1+1}{q2+1}{q3+1}\")\n",
    "\n",
    "    for i in range(3):\n",
    "        for p in range(2):\n",
    "            for q0 in range(2):\n",
    "                for q1 in range(2):\n",
    "                    for q2 in range(2):\n",
    "                        for q3 in range(2):\n",
    "                            a = Integrate_discrete(P_ijpq0q1q2[i][q3][p][q0][q1][q2])\n",
    "                            second_diff = []\n",
    "                            for t in range(N):\n",
    "                                Ksi = t/(N-1)-1/2\n",
    "\n",
    "                                second_diff_func  = -a +\\\n",
    "                                                  + C_ijkl[i][q3][0][q2]*N_e_kpq0q1[0][p][q0][q1][t] +\\\n",
    "                                                  + C_ijkl[i][q3][1][q2]*N_e_kpq0q1[1][p][q0][q1][t] +\\\n",
    "                                                  + C_ijkl[i][q3][2][q2]*N_e_kpq0q1[2][p][q0][q1][t] +\\\n",
    "                                                  + (C_ijkl[i][q3][0][2] + C_ijkl[i][2][0][q3])*Diff_discr(N_e_kpq0q1q2[0][p][q0][q1][q2])[t] +\\\n",
    "                                                  + (C_ijkl[i][q3][1][2] + C_ijkl[i][2][1][q3])*Diff_discr(N_e_kpq0q1q2[1][p][q0][q1][q2])[t] +\\\n",
    "                                                  + (C_ijkl[i][q3][2][2] + C_ijkl[i][2][2][q3])*Diff_discr(N_e_kpq0q1q2[2][p][q0][q1][q2])[t]\n",
    "                                second_diff_func /= -C_ijkl[i][2][i][2]\n",
    "                                second_diff.append(second_diff_func.subs(x, Ksi))\n",
    "                            first_diff = Solve_d_eq_1st_order(second_diff)\n",
    "                            zero_diff = Solve_d_eq_1st_order(first_diff)\n",
    "                            c2 = C_ijkl[i][2][0][q3]*N_e_kpq0q1q2[0][p][q0][q1][q2][0] +\\\n",
    "                               + C_ijkl[i][2][1][q3]*N_e_kpq0q1q2[1][p][q0][q1][q2][0] +\\\n",
    "                               + C_ijkl[i][2][2][q3]*N_e_kpq0q1q2[2][p][q0][q1][q2][0]\n",
    "                            \n",
    "                            c2 /= -C_ijkl[i][2][i][2]\n",
    "                            c2 -= first_diff[0]\n",
    "                            c2 = c2.subs(x, -1/2)\n",
    "                            final_solution = []\n",
    "                            for t in range(N):\n",
    "                                Ksi = t/(N-1)-1/2\n",
    "                                final_solution.append(zero_diff[t]+c2*Ksi)\n",
    "                                first_diff[t] += c2\n",
    "                            N_e_kpq0q1q2q3_diff[i][p][q0][q1][q2][q3] = first_diff\n",
    "                            N_e_kpq0q1q2q3[i][p][q0][q1][q2][q3] = final_solution\n",
    "                            if C_type != \"Symbolic\" and Plot_flag:\n",
    "                                Plot_function([N_e_kpq0q1q2q3[i][p][q0][q1][q2][q3]], f\"N_e_{i+1}{p+1}{q0+1}{q1+1}{q2+1}{q3+1}\")\n",
    "    for i in range(3):\n",
    "        for j in range(3):\n",
    "            for p in range(2):\n",
    "                for q0 in range(2):\n",
    "                    for q1 in range(2):\n",
    "                        for q2 in range(2):\n",
    "                            for q3 in range(2):\n",
    "                                P_list = []\n",
    "                                Q_list = []\n",
    "                                for t in range(N):\n",
    "                                    Q_at_t = C_ijkl[i][j][0][q3]*N_b_kpq0q1q2[0][p][q0][q1][q2][t] + C_ijkl[i][j][1][q3]*N_b_kpq0q1q2[1][p][q0][q1][q2][t] + C_ijkl[i][j][2][q3]*N_b_kpq0q1q2[2][p][q0][q1][q2][t] +\\\n",
    "                                           + C_ijkl[i][j][0][2]*N_b_kpq0q1q2q3_diff[0][p][q0][q1][q2][q3][t] + C_ijkl[i][j][1][2]*N_b_kpq0q1q2q3_diff[1][p][q0][q1][q2][q3][t] + C_ijkl[i][j][2][2]*N_b_kpq0q1q2q3_diff[2][p][q0][q1][q2][q3][t]                \n",
    "                                    P_at_t = C_ijkl[i][j][0][q3]*N_e_kpq0q1q2[0][p][q0][q1][q2][t] + C_ijkl[i][j][1][q3]*N_e_kpq0q1q2[1][p][q0][q1][q2][t] + C_ijkl[i][j][2][q3]*N_e_kpq0q1q2[2][p][q0][q1][q2][t] +\\\n",
    "                                           + C_ijkl[i][j][0][2]*N_e_kpq0q1q2q3_diff[0][p][q0][q1][q2][q3][t] + C_ijkl[i][j][1][2]*N_e_kpq0q1q2q3_diff[1][p][q0][q1][q2][q3][t] + C_ijkl[i][j][2][2]*N_e_kpq0q1q2q3_diff[2][p][q0][q1][q2][q3][t]                \n",
    "                                    P_list.append(P_at_t.subs(x, t/(N-1)-1/2))\n",
    "                                    Q_list.append(Q_at_t.subs(x, t/(N-1)-1/2))\n",
    "                                P_ijpq0q1q2q3[i][j][p][q0][q1][q2][q3] = P_list\n",
    "                                Q_ijpq0q1q2q3[i][j][p][q0][q1][q2][q3] = Q_list\n",
    "                                if C_type != \"Symbolic\" and Plot_flag:\n",
    "                                    Plot_function([P_ijpq0q1q2q3[i][j][p][q0][q1][q2][q3]], f\"P_{i+1}{j+1}{p+1}{q0+1}{q1+1}{q2+1}{q3+1}\")\n",
    "                                    Plot_function([Q_ijpq0q1q2q3[i][j][p][q0][q1][q2][q3]], f\"Q_{i+1}{j+1}{p+1}{q0+1}{q1+1}{q2+1}{q3+1}\")\n",
    "\n",
    "    return N_b_kpq0q1q2q3, P_ijpq0q1q2q3, N_e_kpq0q1q2q3, Q_ijpq0q1q2q3"
   ]
  },
  {
   "cell_type": "code",
   "execution_count": null,
   "id": "c038e300",
   "metadata": {},
   "outputs": [],
   "source": []
  }
 ],
 "metadata": {
  "kernelspec": {
   "display_name": "Python 3 (ipykernel)",
   "language": "python",
   "name": "python3"
  },
  "language_info": {
   "codemirror_mode": {
    "name": "ipython",
    "version": 3
   },
   "file_extension": ".py",
   "mimetype": "text/x-python",
   "name": "python",
   "nbconvert_exporter": "python",
   "pygments_lexer": "ipython3",
   "version": "3.8.16"
  }
 },
 "nbformat": 4,
 "nbformat_minor": 5
}
