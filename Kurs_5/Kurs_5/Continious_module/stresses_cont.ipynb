{
 "cells": [
  {
   "cell_type": "code",
   "execution_count": 3,
   "id": "a177f3f4",
   "metadata": {},
   "outputs": [],
   "source": [
    "import sympy\n",
    "def get_Sigma_ij_4(C_and_N_functions, P_functions, C_type, i, j, v, w, h=0.1, Plot_flag = 0):\n",
    "    P_ijpq0 = P_functions[1][0]\n",
    "    Q_ijpq0 = P_functions[1][1]\n",
    "    P_ijpq0q1 = P_functions[2][0]\n",
    "    Q_ijpq0q1 = P_functions[2][1]\n",
    "    P_ijpq0q1q2 = P_functions[3][0]\n",
    "    Q_ijpq0q1q2 = P_functions[3][1]\n",
    "    P_ijpq0q1q2q3 = P_functions[4][0]\n",
    "    Q_ijpq0q1q2q3 = P_functions[4][1]\n",
    "\n",
    "    x = sympy.Symbol('x')\n",
    "    Sigma_e_ij = P_ijpq0[i][j][0][0]*v.diff(x)+h*P_ijpq0q1[i][j][0][0][0]*v.diff(x, 2)\n",
    "    Sigma_e_ij += h**2*P_ijpq0q1q2[i][j][0][0][0][0]*v.diff(x, 3)\n",
    "    Sigma_e_ij += h**3*P_ijpq0q1q2q3[i][j][0][0][0][0][q3]*v.diff(x, 4)\n",
    "    \n",
    "    Sigma_b_ij = Q_ijpq0[i][j][0][0]*w.diff(x)+h*Q_ijpq0q1[i][j][0][0][0]*w.diff(x, 2)\n",
    "    Sigma_b_ij += h**2*Q_ijpq0q1q2[i][j][0][0][0][0]*w.diff(x, 3)\n",
    "    Sigma_b_ij += h**3*Q_ijpq0q1q2q3[i][j][0][0][0][0][q3]*w.diff(x, 4)\n",
    "    Sigma_b_ij *= h\n",
    "    return Sigma_b_ij, Sigma_e_ij\n"
   ]
  },
  {
   "cell_type": "code",
   "execution_count": null,
   "id": "e95e7454",
   "metadata": {},
   "outputs": [],
   "source": []
  }
 ],
 "metadata": {
  "kernelspec": {
   "display_name": "Python 3 (ipykernel)",
   "language": "python",
   "name": "python3"
  },
  "language_info": {
   "codemirror_mode": {
    "name": "ipython",
    "version": 3
   },
   "file_extension": ".py",
   "mimetype": "text/x-python",
   "name": "python",
   "nbconvert_exporter": "python",
   "pygments_lexer": "ipython3",
   "version": "3.11.5"
  }
 },
 "nbformat": 4,
 "nbformat_minor": 5
}
