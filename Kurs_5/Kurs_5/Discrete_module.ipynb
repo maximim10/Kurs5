{
 "cells": [
  {
   "cell_type": "code",
   "execution_count": 3,
   "id": "4425bbd0",
   "metadata": {},
   "outputs": [],
   "source": [
    "\n",
    "# def Plot_function_discrete(func):\n",
    "#     for \n",
    "#     N = len(func)-1\n",
    "#     interval = [i/N-1/2 for i in range(N+1)]\n",
    "#     plt.plot(interval, func)    \n",
    "    \n"
   ]
  },
  {
   "cell_type": "code",
   "execution_count": null,
   "id": "894fbbed",
   "metadata": {},
   "outputs": [],
   "source": []
  }
 ],
 "metadata": {
  "kernelspec": {
   "display_name": "Python 3 (ipykernel)",
   "language": "python",
   "name": "python3"
  },
  "language_info": {
   "codemirror_mode": {
    "name": "ipython",
    "version": 3
   },
   "file_extension": ".py",
   "mimetype": "text/x-python",
   "name": "python",
   "nbconvert_exporter": "python",
   "pygments_lexer": "ipython3",
   "version": "3.8.16"
  }
 },
 "nbformat": 4,
 "nbformat_minor": 5
}
